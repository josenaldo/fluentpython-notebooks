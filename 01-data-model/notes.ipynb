{
 "cells": [
  {
   "cell_type": "code",
   "execution_count": 1,
   "source": [
    "import collections\r\n",
    "\r\n",
    "class Card:\r\n",
    "    symbols = {\r\n",
    "        'spades': '♠',\r\n",
    "        'diamonds': '♦',\r\n",
    "        'clubs': '♣',\r\n",
    "        'hearts': '♥',\r\n",
    "    }\r\n",
    "\r\n",
    "    translates = {\r\n",
    "        'spades': 'Espadas',\r\n",
    "        'diamonds': 'Ouros',\r\n",
    "        'clubs': 'Paus',\r\n",
    "        'hearts': 'Copas',\r\n",
    "    }\r\n",
    "\r\n",
    "    def __init__(self, rank, suit) -> None:\r\n",
    "        self.rank = rank\r\n",
    "        self.suit = suit\r\n",
    "        self.symbol = Card.symbols[suit]\r\n",
    "        self.translate = Card.translates[suit]\r\n",
    "\r\n",
    "    def __str__(self) -> str:\r\n",
    "        return f'{self.rank} de {self.translate} {self.symbol}'\r\n",
    "\r\n",
    "    def __repr__(self) -> str:\r\n",
    "        return str(self)\r\n",
    "\r\n",
    "    def __eq__(self, other: object) -> bool:\r\n",
    "        return self.rank == other.rank and self.suit == other.suit\r\n",
    "\r\n",
    "class FrenchDeck:\r\n",
    "    ranks = [str(n) for n in range(2, 11)] + list('JQKA')\r\n",
    "    suits = 'spades diamonds clubs hearts'.split()\r\n",
    "\r\n",
    "\r\n",
    "    def __init__(self):\r\n",
    "        self._cards = [Card(rank, suit)\r\n",
    "                                        for suit in FrenchDeck.suits\r\n",
    "                                        for rank in FrenchDeck.ranks]\r\n",
    "\r\n",
    "    def __len__(self):\r\n",
    "        return len(self._cards)\r\n",
    "\r\n",
    "    def __getitem__(self, position):\r\n",
    "        return self._cards[position]\r\n",
    "\r\n",
    "    @property\r\n",
    "    def cards(self):\r\n",
    "        return self._cards\r\n",
    "\r\n",
    "deck = FrenchDeck()\r\n"
   ],
   "outputs": [],
   "metadata": {}
  },
  {
   "cell_type": "code",
   "execution_count": 2,
   "source": [
    "\r\n",
    "ranks = [str(n) for n in range(2, 11)] + list('JQKA')\r\n",
    "ranks"
   ],
   "outputs": [
    {
     "output_type": "execute_result",
     "data": {
      "text/plain": [
       "['2', '3', '4', '5', '6', '7', '8', '9', '10', 'J', 'Q', 'K', 'A']"
      ]
     },
     "metadata": {},
     "execution_count": 2
    }
   ],
   "metadata": {}
  },
  {
   "cell_type": "code",
   "execution_count": 3,
   "source": [
    "suits = 'spades diamonds clubs hearts'.split()\r\n",
    "suits"
   ],
   "outputs": [
    {
     "output_type": "execute_result",
     "data": {
      "text/plain": [
       "['spades', 'diamonds', 'clubs', 'hearts']"
      ]
     },
     "metadata": {},
     "execution_count": 3
    }
   ],
   "metadata": {}
  },
  {
   "cell_type": "code",
   "execution_count": 4,
   "source": [
    "deck = FrenchDeck()\r\n",
    "deck.cards"
   ],
   "outputs": [
    {
     "output_type": "execute_result",
     "data": {
      "text/plain": [
       "[2 de Espadas ♠,\n",
       " 3 de Espadas ♠,\n",
       " 4 de Espadas ♠,\n",
       " 5 de Espadas ♠,\n",
       " 6 de Espadas ♠,\n",
       " 7 de Espadas ♠,\n",
       " 8 de Espadas ♠,\n",
       " 9 de Espadas ♠,\n",
       " 10 de Espadas ♠,\n",
       " J de Espadas ♠,\n",
       " Q de Espadas ♠,\n",
       " K de Espadas ♠,\n",
       " A de Espadas ♠,\n",
       " 2 de Ouros ♦,\n",
       " 3 de Ouros ♦,\n",
       " 4 de Ouros ♦,\n",
       " 5 de Ouros ♦,\n",
       " 6 de Ouros ♦,\n",
       " 7 de Ouros ♦,\n",
       " 8 de Ouros ♦,\n",
       " 9 de Ouros ♦,\n",
       " 10 de Ouros ♦,\n",
       " J de Ouros ♦,\n",
       " Q de Ouros ♦,\n",
       " K de Ouros ♦,\n",
       " A de Ouros ♦,\n",
       " 2 de Paus ♣,\n",
       " 3 de Paus ♣,\n",
       " 4 de Paus ♣,\n",
       " 5 de Paus ♣,\n",
       " 6 de Paus ♣,\n",
       " 7 de Paus ♣,\n",
       " 8 de Paus ♣,\n",
       " 9 de Paus ♣,\n",
       " 10 de Paus ♣,\n",
       " J de Paus ♣,\n",
       " Q de Paus ♣,\n",
       " K de Paus ♣,\n",
       " A de Paus ♣,\n",
       " 2 de Copas ♥,\n",
       " 3 de Copas ♥,\n",
       " 4 de Copas ♥,\n",
       " 5 de Copas ♥,\n",
       " 6 de Copas ♥,\n",
       " 7 de Copas ♥,\n",
       " 8 de Copas ♥,\n",
       " 9 de Copas ♥,\n",
       " 10 de Copas ♥,\n",
       " J de Copas ♥,\n",
       " Q de Copas ♥,\n",
       " K de Copas ♥,\n",
       " A de Copas ♥]"
      ]
     },
     "metadata": {},
     "execution_count": 4
    }
   ],
   "metadata": {}
  },
  {
   "cell_type": "code",
   "execution_count": 5,
   "source": [
    "beer_card = Card('7', 'diamonds')\r\n",
    "beer_card"
   ],
   "outputs": [
    {
     "output_type": "execute_result",
     "data": {
      "text/plain": [
       "7 de Ouros ♦"
      ]
     },
     "metadata": {},
     "execution_count": 5
    }
   ],
   "metadata": {}
  },
  {
   "cell_type": "code",
   "execution_count": 6,
   "source": [
    "# Obtendo o tamanho do baralho\r\n",
    "len(deck)"
   ],
   "outputs": [
    {
     "output_type": "execute_result",
     "data": {
      "text/plain": [
       "52"
      ]
     },
     "metadata": {},
     "execution_count": 6
    }
   ],
   "metadata": {}
  },
  {
   "cell_type": "code",
   "execution_count": 7,
   "source": [
    "# Selecionando a primeira carta do baralho\r\n",
    "deck[0]"
   ],
   "outputs": [
    {
     "output_type": "execute_result",
     "data": {
      "text/plain": [
       "2 de Espadas ♠"
      ]
     },
     "metadata": {},
     "execution_count": 7
    }
   ],
   "metadata": {}
  },
  {
   "cell_type": "code",
   "execution_count": 8,
   "source": [
    "# Selecionando a úyltima carta do baralho\r\n",
    "deck[-1]"
   ],
   "outputs": [
    {
     "output_type": "execute_result",
     "data": {
      "text/plain": [
       "A de Copas ♥"
      ]
     },
     "metadata": {},
     "execution_count": 8
    }
   ],
   "metadata": {}
  },
  {
   "cell_type": "code",
   "execution_count": 9,
   "source": [
    "# Selecionando uma carta aleatória\r\n",
    "from random import choice\r\n",
    "\r\n",
    "print(choice(deck), choice(deck), choice(deck), choice(deck))\r\n",
    "print(choice(deck), choice(deck), choice(deck), choice(deck))\r\n",
    "print(choice(deck), choice(deck), choice(deck), choice(deck))\r\n"
   ],
   "outputs": [
    {
     "output_type": "stream",
     "name": "stdout",
     "text": [
      "3 de Espadas ♠ K de Paus ♣ 4 de Ouros ♦ Q de Copas ♥\n",
      "Q de Copas ♥ 5 de Espadas ♠ 10 de Paus ♣ J de Copas ♥\n",
      "9 de Ouros ♦ 10 de Ouros ♦ 10 de Espadas ♠ 8 de Paus ♣\n"
     ]
    }
   ],
   "metadata": {}
  },
  {
   "cell_type": "code",
   "execution_count": 10,
   "source": [
    "# Obtendo, através de fatiamento, as 3 primeiras cartas do baralho\r\n",
    "deck[:3]"
   ],
   "outputs": [
    {
     "output_type": "execute_result",
     "data": {
      "text/plain": [
       "[2 de Espadas ♠, 3 de Espadas ♠, 4 de Espadas ♠]"
      ]
     },
     "metadata": {},
     "execution_count": 10
    }
   ],
   "metadata": {}
  },
  {
   "cell_type": "code",
   "execution_count": 11,
   "source": [
    "# Obtendo, através do fatiamento, apenas os Ases do baralho (começando)\r\n",
    "# no primeiro ás, o de espadas, e pegando cartas a cada 13 cartas\r\n",
    "deck[12::13]"
   ],
   "outputs": [
    {
     "output_type": "execute_result",
     "data": {
      "text/plain": [
       "[A de Espadas ♠, A de Ouros ♦, A de Paus ♣, A de Copas ♥]"
      ]
     },
     "metadata": {},
     "execution_count": 11
    }
   ],
   "metadata": {}
  },
  {
   "cell_type": "code",
   "execution_count": 12,
   "source": [
    "# Por implementar método __getitem__, o baralho pode ser iterado\r\n",
    "for card in deck:\r\n",
    "    print(card)"
   ],
   "outputs": [
    {
     "output_type": "stream",
     "name": "stdout",
     "text": [
      "2 de Espadas ♠\n",
      "3 de Espadas ♠\n",
      "4 de Espadas ♠\n",
      "5 de Espadas ♠\n",
      "6 de Espadas ♠\n",
      "7 de Espadas ♠\n",
      "8 de Espadas ♠\n",
      "9 de Espadas ♠\n",
      "10 de Espadas ♠\n",
      "J de Espadas ♠\n",
      "Q de Espadas ♠\n",
      "K de Espadas ♠\n",
      "A de Espadas ♠\n",
      "2 de Ouros ♦\n",
      "3 de Ouros ♦\n",
      "4 de Ouros ♦\n",
      "5 de Ouros ♦\n",
      "6 de Ouros ♦\n",
      "7 de Ouros ♦\n",
      "8 de Ouros ♦\n",
      "9 de Ouros ♦\n",
      "10 de Ouros ♦\n",
      "J de Ouros ♦\n",
      "Q de Ouros ♦\n",
      "K de Ouros ♦\n",
      "A de Ouros ♦\n",
      "2 de Paus ♣\n",
      "3 de Paus ♣\n",
      "4 de Paus ♣\n",
      "5 de Paus ♣\n",
      "6 de Paus ♣\n",
      "7 de Paus ♣\n",
      "8 de Paus ♣\n",
      "9 de Paus ♣\n",
      "10 de Paus ♣\n",
      "J de Paus ♣\n",
      "Q de Paus ♣\n",
      "K de Paus ♣\n",
      "A de Paus ♣\n",
      "2 de Copas ♥\n",
      "3 de Copas ♥\n",
      "4 de Copas ♥\n",
      "5 de Copas ♥\n",
      "6 de Copas ♥\n",
      "7 de Copas ♥\n",
      "8 de Copas ♥\n",
      "9 de Copas ♥\n",
      "10 de Copas ♥\n",
      "J de Copas ♥\n",
      "Q de Copas ♥\n",
      "K de Copas ♥\n",
      "A de Copas ♥\n"
     ]
    }
   ],
   "metadata": {}
  },
  {
   "cell_type": "code",
   "execution_count": 13,
   "source": [
    "# O baralho também pode ser iteraado na ordem reversa\r\n",
    "for card in reversed(deck):\r\n",
    "    print(card)"
   ],
   "outputs": [
    {
     "output_type": "stream",
     "name": "stdout",
     "text": [
      "A de Copas ♥\n",
      "K de Copas ♥\n",
      "Q de Copas ♥\n",
      "J de Copas ♥\n",
      "10 de Copas ♥\n",
      "9 de Copas ♥\n",
      "8 de Copas ♥\n",
      "7 de Copas ♥\n",
      "6 de Copas ♥\n",
      "5 de Copas ♥\n",
      "4 de Copas ♥\n",
      "3 de Copas ♥\n",
      "2 de Copas ♥\n",
      "A de Paus ♣\n",
      "K de Paus ♣\n",
      "Q de Paus ♣\n",
      "J de Paus ♣\n",
      "10 de Paus ♣\n",
      "9 de Paus ♣\n",
      "8 de Paus ♣\n",
      "7 de Paus ♣\n",
      "6 de Paus ♣\n",
      "5 de Paus ♣\n",
      "4 de Paus ♣\n",
      "3 de Paus ♣\n",
      "2 de Paus ♣\n",
      "A de Ouros ♦\n",
      "K de Ouros ♦\n",
      "Q de Ouros ♦\n",
      "J de Ouros ♦\n",
      "10 de Ouros ♦\n",
      "9 de Ouros ♦\n",
      "8 de Ouros ♦\n",
      "7 de Ouros ♦\n",
      "6 de Ouros ♦\n",
      "5 de Ouros ♦\n",
      "4 de Ouros ♦\n",
      "3 de Ouros ♦\n",
      "2 de Ouros ♦\n",
      "A de Espadas ♠\n",
      "K de Espadas ♠\n",
      "Q de Espadas ♠\n",
      "J de Espadas ♠\n",
      "10 de Espadas ♠\n",
      "9 de Espadas ♠\n",
      "8 de Espadas ♠\n",
      "7 de Espadas ♠\n",
      "6 de Espadas ♠\n",
      "5 de Espadas ♠\n",
      "4 de Espadas ♠\n",
      "3 de Espadas ♠\n",
      "2 de Espadas ♠\n"
     ]
    }
   ],
   "metadata": {}
  },
  {
   "cell_type": "code",
   "execution_count": 14,
   "source": [
    "# Por deck ser um iterável, podemos pesquisar no deck usando o operador\r\n",
    "# in. Na implementação de Card com namedtuple, o médoto __eq__ não\r\n",
    "# precisa ser implementado. Na implementação com classe, é necessário.\r\n",
    "print(Card('Q', 'hearts') in deck)\r\n",
    "print(Card('Z', 'clubs') in deck)"
   ],
   "outputs": [
    {
     "output_type": "stream",
     "name": "stdout",
     "text": [
      "True\n",
      "False\n"
     ]
    }
   ],
   "metadata": {}
  },
  {
   "cell_type": "code",
   "execution_count": 15,
   "source": [
    "# Podemos ordenar as cartas de acordo com o rank e depois com o suit.\r\n",
    "# Para isso, criamos uma função que retorna o valor númerico de uma\r\n",
    "# carta, de acordo com seus dados.\r\n",
    "suit_values = dict(spades=3, hearts=2, diamonds=1, clubs=0)\r\n",
    "def spades_high(card):\r\n",
    "    rank_value = FrenchDeck.ranks.index(card.rank)\r\n",
    "    return rank_value * len(suit_values) + suit_values[card.suit]\r\n",
    "\r\n",
    "print(spades_high(Card('2', 'clubs')))\r\n",
    "print(spades_high(Card('A', 'spades')))"
   ],
   "outputs": [
    {
     "output_type": "stream",
     "name": "stdout",
     "text": [
      "0\n",
      "51\n"
     ]
    }
   ],
   "metadata": {}
  },
  {
   "cell_type": "code",
   "execution_count": 16,
   "source": [
    "# Agora, podemos usar essa função como key da função sorted, de modo que\r\n",
    "# teremos as cartas ordenados por rank e por suit\r\n",
    "for card in sorted(deck, key=spades_high):\r\n",
    "    print(card)"
   ],
   "outputs": [
    {
     "output_type": "stream",
     "name": "stdout",
     "text": [
      "2 de Paus ♣\n",
      "2 de Ouros ♦\n",
      "2 de Copas ♥\n",
      "2 de Espadas ♠\n",
      "3 de Paus ♣\n",
      "3 de Ouros ♦\n",
      "3 de Copas ♥\n",
      "3 de Espadas ♠\n",
      "4 de Paus ♣\n",
      "4 de Ouros ♦\n",
      "4 de Copas ♥\n",
      "4 de Espadas ♠\n",
      "5 de Paus ♣\n",
      "5 de Ouros ♦\n",
      "5 de Copas ♥\n",
      "5 de Espadas ♠\n",
      "6 de Paus ♣\n",
      "6 de Ouros ♦\n",
      "6 de Copas ♥\n",
      "6 de Espadas ♠\n",
      "7 de Paus ♣\n",
      "7 de Ouros ♦\n",
      "7 de Copas ♥\n",
      "7 de Espadas ♠\n",
      "8 de Paus ♣\n",
      "8 de Ouros ♦\n",
      "8 de Copas ♥\n",
      "8 de Espadas ♠\n",
      "9 de Paus ♣\n",
      "9 de Ouros ♦\n",
      "9 de Copas ♥\n",
      "9 de Espadas ♠\n",
      "10 de Paus ♣\n",
      "10 de Ouros ♦\n",
      "10 de Copas ♥\n",
      "10 de Espadas ♠\n",
      "J de Paus ♣\n",
      "J de Ouros ♦\n",
      "J de Copas ♥\n",
      "J de Espadas ♠\n",
      "Q de Paus ♣\n",
      "Q de Ouros ♦\n",
      "Q de Copas ♥\n",
      "Q de Espadas ♠\n",
      "K de Paus ♣\n",
      "K de Ouros ♦\n",
      "K de Copas ♥\n",
      "K de Espadas ♠\n",
      "A de Paus ♣\n",
      "A de Ouros ♦\n",
      "A de Copas ♥\n",
      "A de Espadas ♠\n"
     ]
    }
   ],
   "metadata": {}
  },
  {
   "cell_type": "code",
   "execution_count": 17,
   "source": [
    "for n, card in enumerate(deck, 1):\r\n",
    "    print(n, card)"
   ],
   "outputs": [
    {
     "output_type": "stream",
     "name": "stdout",
     "text": [
      "1 2 de Espadas ♠\n",
      "2 3 de Espadas ♠\n",
      "3 4 de Espadas ♠\n",
      "4 5 de Espadas ♠\n",
      "5 6 de Espadas ♠\n",
      "6 7 de Espadas ♠\n",
      "7 8 de Espadas ♠\n",
      "8 9 de Espadas ♠\n",
      "9 10 de Espadas ♠\n",
      "10 J de Espadas ♠\n",
      "11 Q de Espadas ♠\n",
      "12 K de Espadas ♠\n",
      "13 A de Espadas ♠\n",
      "14 2 de Ouros ♦\n",
      "15 3 de Ouros ♦\n",
      "16 4 de Ouros ♦\n",
      "17 5 de Ouros ♦\n",
      "18 6 de Ouros ♦\n",
      "19 7 de Ouros ♦\n",
      "20 8 de Ouros ♦\n",
      "21 9 de Ouros ♦\n",
      "22 10 de Ouros ♦\n",
      "23 J de Ouros ♦\n",
      "24 Q de Ouros ♦\n",
      "25 K de Ouros ♦\n",
      "26 A de Ouros ♦\n",
      "27 2 de Paus ♣\n",
      "28 3 de Paus ♣\n",
      "29 4 de Paus ♣\n",
      "30 5 de Paus ♣\n",
      "31 6 de Paus ♣\n",
      "32 7 de Paus ♣\n",
      "33 8 de Paus ♣\n",
      "34 9 de Paus ♣\n",
      "35 10 de Paus ♣\n",
      "36 J de Paus ♣\n",
      "37 Q de Paus ♣\n",
      "38 K de Paus ♣\n",
      "39 A de Paus ♣\n",
      "40 2 de Copas ♥\n",
      "41 3 de Copas ♥\n",
      "42 4 de Copas ♥\n",
      "43 5 de Copas ♥\n",
      "44 6 de Copas ♥\n",
      "45 7 de Copas ♥\n",
      "46 8 de Copas ♥\n",
      "47 9 de Copas ♥\n",
      "48 10 de Copas ♥\n",
      "49 J de Copas ♥\n",
      "50 Q de Copas ♥\n",
      "51 K de Copas ♥\n",
      "52 A de Copas ♥\n"
     ]
    }
   ],
   "metadata": {}
  },
  {
   "cell_type": "markdown",
   "source": [
    "# Testando __repr__ e __str__"
   ],
   "metadata": {}
  },
  {
   "cell_type": "markdown",
   "source": [
    "Para masi informações, veja [What is the difference between __str__ and __repr__?](https://stackoverflow.com/questions/1436703/what-is-the-difference-between-str-and-repr)."
   ],
   "metadata": {}
  },
  {
   "cell_type": "code",
   "execution_count": 1,
   "source": [
    "class AlunoRepr:\r\n",
    "    def __init__(self, nome) -> None:\r\n",
    "        self.nome = nome\r\n",
    "\r\n",
    "    def __repr__(self) -> str:\r\n",
    "        return f\"AlunoRepr({self.nome})\"\r\n",
    "\r\n",
    "class AlunoStr:\r\n",
    "    def __init__(self, nome) -> None:\r\n",
    "        self.nome = nome\r\n",
    "\r\n",
    "    def __str__(self) -> str:\r\n",
    "        return f\"AlunoStr({self.nome})\"\r\n",
    "\r\n",
    "class AlunoReprStr:\r\n",
    "    def __init__(self, nome) -> None:\r\n",
    "        self.nome = nome\r\n",
    "\r\n",
    "    def __repr__(self) -> str:\r\n",
    "        return f\"AlunoRepr({self.nome})\"\r\n",
    "\r\n",
    "    def __str__(self) -> str:\r\n",
    "        return f\"AlunoStr({self.nome})\""
   ],
   "outputs": [],
   "metadata": {}
  },
  {
   "cell_type": "code",
   "execution_count": 9,
   "source": [
    "aluno_repr = AlunoRepr(\"João Matos\")\r\n",
    "aluno_repr"
   ],
   "outputs": [
    {
     "output_type": "execute_result",
     "data": {
      "text/plain": [
       "AlunoRepr(João Matos)"
      ]
     },
     "metadata": {},
     "execution_count": 9
    }
   ],
   "metadata": {}
  },
  {
   "cell_type": "code",
   "execution_count": 10,
   "source": [
    "print(aluno_repr)"
   ],
   "outputs": [
    {
     "output_type": "stream",
     "name": "stdout",
     "text": [
      "AlunoRepr(João Matos)\n"
     ]
    }
   ],
   "metadata": {}
  },
  {
   "cell_type": "code",
   "execution_count": 11,
   "source": [
    "aluno_str = AlunoStr(\"Pedro Silva\")\r\n",
    "aluno_str"
   ],
   "outputs": [
    {
     "output_type": "execute_result",
     "data": {
      "text/plain": [
       "<__main__.AlunoStr at 0x24a983a9970>"
      ]
     },
     "metadata": {},
     "execution_count": 11
    }
   ],
   "metadata": {}
  },
  {
   "cell_type": "code",
   "execution_count": 12,
   "source": [
    "print(aluno_str)"
   ],
   "outputs": [
    {
     "output_type": "stream",
     "name": "stdout",
     "text": [
      "AlunoStr(Pedro Silva)\n"
     ]
    }
   ],
   "metadata": {}
  },
  {
   "cell_type": "code",
   "execution_count": 13,
   "source": [
    "aluno_repr_str = AlunoReprStr(\"Marina Pereira\")\r\n",
    "aluno_repr_str"
   ],
   "outputs": [
    {
     "output_type": "execute_result",
     "data": {
      "text/plain": [
       "AlunoRepr(Marina Pereira)"
      ]
     },
     "metadata": {},
     "execution_count": 13
    }
   ],
   "metadata": {}
  },
  {
   "cell_type": "code",
   "execution_count": 14,
   "source": [
    "print(aluno_repr_str)"
   ],
   "outputs": [
    {
     "output_type": "stream",
     "name": "stdout",
     "text": [
      "AlunoStr(Marina Pereira)\n"
     ]
    }
   ],
   "metadata": {}
  },
  {
   "cell_type": "code",
   "execution_count": 6,
   "source": [
    "alunos = [aluno_repr, aluno_str, aluno_repr_str]\r\n",
    "alunos"
   ],
   "outputs": [
    {
     "output_type": "execute_result",
     "data": {
      "text/plain": [
       "[AlunoRepr(João Matos),\n",
       " <__main__.AlunoStr at 0x24a983a9df0>,\n",
       " AlunoRepr(Marina Pereira)]"
      ]
     },
     "metadata": {},
     "execution_count": 6
    }
   ],
   "metadata": {}
  },
  {
   "cell_type": "code",
   "execution_count": 7,
   "source": [
    "print(alunos)"
   ],
   "outputs": [
    {
     "output_type": "stream",
     "name": "stdout",
     "text": [
      "[AlunoRepr(João Matos), <__main__.AlunoStr object at 0x0000024A983A9DF0>, AlunoRepr(Marina Pereira)]\n"
     ]
    }
   ],
   "metadata": {}
  },
  {
   "cell_type": "code",
   "execution_count": 8,
   "source": [
    "for aluno in alunos:\r\n",
    "    print(aluno)"
   ],
   "outputs": [
    {
     "output_type": "stream",
     "name": "stdout",
     "text": [
      "AlunoRepr(João Matos)\n",
      "AlunoStr(Pedro Silva)\n",
      "AlunoStr(Marina Pereira)\n"
     ]
    }
   ],
   "metadata": {}
  },
  {
   "cell_type": "code",
   "execution_count": null,
   "source": [],
   "outputs": [],
   "metadata": {}
  }
 ],
 "metadata": {
  "interpreter": {
   "hash": "8ae6e8347844ce31cefbfab1c46c85d6003d3a1108122483edd0f60efc9feef7"
  },
  "kernelspec": {
   "name": "python3",
   "display_name": "Python 3.9.7 64-bit (conda)"
  },
  "language_info": {
   "codemirror_mode": {
    "name": "ipython",
    "version": 3
   },
   "file_extension": ".py",
   "mimetype": "text/x-python",
   "name": "python",
   "nbconvert_exporter": "python",
   "pygments_lexer": "ipython3",
   "version": "3.9.7"
  }
 },
 "nbformat": 4,
 "nbformat_minor": 4
}