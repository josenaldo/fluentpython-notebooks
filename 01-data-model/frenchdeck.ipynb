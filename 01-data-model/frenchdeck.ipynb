{
 "cells": [
  {
   "cell_type": "markdown",
   "source": [
    "### Card and Deck objects\n",
    "\n",
    "This notebook contains example code from [*Fluent Python*](http://shop.oreilly.com/product/0636920032519.do), by Luciano Ramalho.\n",
    "\n",
    "Code by Luciano Ramalho, modified by Allen Downey.\n",
    "\n",
    "MIT License: https://opensource.org/licenses/MIT"
   ],
   "metadata": {}
  },
  {
   "cell_type": "markdown",
   "source": [
    "This example demonstrates the Python data model using a simple implementation of playing cards and decks.\n",
    "\n",
    "`Card` is a namedtuple that represents a playing card."
   ],
   "metadata": {}
  },
  {
   "cell_type": "code",
   "execution_count": 1,
   "source": [
    "import collections\r\n",
    "\r\n",
    "Card = collections.namedtuple('Card', ['rank', 'suit'])"
   ],
   "outputs": [],
   "metadata": {
    "collapsed": true,
    "jupyter": {
     "outputs_hidden": true
    }
   }
  },
  {
   "cell_type": "markdown",
   "source": [
    "`FrenchDeck` is a class that represents a deck of cards."
   ],
   "metadata": {}
  },
  {
   "cell_type": "code",
   "execution_count": 2,
   "source": [
    "class FrenchDeck:\r\n",
    "    ranks = [str(n) for n in range(2, 11)] + list('JQKA')\r\n",
    "    suits = 'spades diamonds clubs hearts'.split()\r\n",
    "\r\n",
    "    def __init__(self):\r\n",
    "        self._cards = [Card(rank, suit) for suit in self.suits\r\n",
    "                                        for rank in self.ranks]\r\n",
    "\r\n",
    "    def __len__(self):\r\n",
    "        return len(self._cards)\r\n",
    "\r\n",
    "    def __getitem__(self, position):\r\n",
    "        return self._cards[position]"
   ],
   "outputs": [],
   "metadata": {
    "collapsed": true,
    "jupyter": {
     "outputs_hidden": true
    }
   }
  },
  {
   "cell_type": "markdown",
   "source": [
    "You can instantiate a `Card` object as if `Card` were a class.\n",
    "\n",
    "BTW: [beer card](https://en.wikipedia.org/wiki/Beer_card)"
   ],
   "metadata": {}
  },
  {
   "cell_type": "code",
   "execution_count": 3,
   "source": [
    "beer_card = Card('7', 'diamonds')\r\n",
    "beer_card"
   ],
   "outputs": [
    {
     "output_type": "execute_result",
     "data": {
      "text/plain": [
       "Card(rank='7', suit='diamonds')"
      ]
     },
     "metadata": {},
     "execution_count": 3
    }
   ],
   "metadata": {
    "collapsed": false,
    "jupyter": {
     "outputs_hidden": false
    }
   }
  },
  {
   "cell_type": "markdown",
   "source": [
    "You can access the fields of a card by name."
   ],
   "metadata": {}
  },
  {
   "cell_type": "code",
   "execution_count": 4,
   "source": [
    "beer_card.rank, beer_card.suit"
   ],
   "outputs": [
    {
     "output_type": "execute_result",
     "data": {
      "text/plain": [
       "('7', 'diamonds')"
      ]
     },
     "metadata": {},
     "execution_count": 4
    }
   ],
   "metadata": {
    "collapsed": false,
    "jupyter": {
     "outputs_hidden": false
    }
   }
  },
  {
   "cell_type": "markdown",
   "source": [
    "Or by index."
   ],
   "metadata": {}
  },
  {
   "cell_type": "code",
   "execution_count": 5,
   "source": [
    "beer_card[0], beer_card[1]"
   ],
   "outputs": [
    {
     "output_type": "execute_result",
     "data": {
      "text/plain": [
       "('7', 'diamonds')"
      ]
     },
     "metadata": {},
     "execution_count": 5
    }
   ],
   "metadata": {
    "collapsed": false,
    "jupyter": {
     "outputs_hidden": false
    }
   }
  },
  {
   "cell_type": "markdown",
   "source": [
    "A drawback of using namedtuples is that you can't define methods for them in the usual way.\n",
    "\n",
    "But you can [monkey-patch](https://en.wikipedia.org/wiki/Monkey_patch) them by defining a function and then making it an attribute of `Card`.  For example, here's a function that generates a string representation of a card:"
   ],
   "metadata": {}
  },
  {
   "cell_type": "code",
   "execution_count": 6,
   "source": [
    "def card_to_str(card):\r\n",
    "    return '%s of %s' % card\r\n",
    "\r\n",
    "card_to_str(beer_card)"
   ],
   "outputs": [
    {
     "output_type": "execute_result",
     "data": {
      "text/plain": [
       "'7 of diamonds'"
      ]
     },
     "metadata": {},
     "execution_count": 6
    }
   ],
   "metadata": {
    "collapsed": false,
    "jupyter": {
     "outputs_hidden": false
    }
   }
  },
  {
   "cell_type": "markdown",
   "source": [
    "Here's how we can make that function behave like a method.  When we pass a card to `print`, Python invokes the special method `__str__`"
   ],
   "metadata": {}
  },
  {
   "cell_type": "code",
   "execution_count": 7,
   "source": [
    "Card.__str__ = card_to_str\r\n",
    "print(beer_card)"
   ],
   "outputs": [
    {
     "output_type": "stream",
     "name": "stdout",
     "text": [
      "7 of diamonds\n"
     ]
    }
   ],
   "metadata": {
    "collapsed": false,
    "jupyter": {
     "outputs_hidden": false
    }
   }
  },
  {
   "cell_type": "markdown",
   "source": [
    "Now let's instantiate a `FrenchDeck`.\n",
    "\n",
    "When we call `len`, Python invokes the `__len__` method on the deck. "
   ],
   "metadata": {}
  },
  {
   "cell_type": "code",
   "execution_count": 8,
   "source": [
    "deck = FrenchDeck()\r\n",
    "len(deck)"
   ],
   "outputs": [
    {
     "output_type": "execute_result",
     "data": {
      "text/plain": [
       "52"
      ]
     },
     "metadata": {},
     "execution_count": 8
    }
   ],
   "metadata": {
    "collapsed": false,
    "jupyter": {
     "outputs_hidden": false
    }
   }
  },
  {
   "cell_type": "markdown",
   "source": [
    "When we use the bracket operator, Python invokes the `__getitem__` method:"
   ],
   "metadata": {}
  },
  {
   "cell_type": "code",
   "execution_count": 9,
   "source": [
    "deck[3]"
   ],
   "outputs": [
    {
     "output_type": "execute_result",
     "data": {
      "text/plain": [
       "Card(rank='5', suit='spades')"
      ]
     },
     "metadata": {},
     "execution_count": 9
    }
   ],
   "metadata": {
    "collapsed": false,
    "jupyter": {
     "outputs_hidden": false
    }
   }
  },
  {
   "cell_type": "markdown",
   "source": [
    "And that means that the slice operator works, too:"
   ],
   "metadata": {}
  },
  {
   "cell_type": "code",
   "execution_count": 10,
   "source": [
    "deck[:3]"
   ],
   "outputs": [
    {
     "output_type": "execute_result",
     "data": {
      "text/plain": [
       "[Card(rank='2', suit='spades'),\n",
       " Card(rank='3', suit='spades'),\n",
       " Card(rank='4', suit='spades')]"
      ]
     },
     "metadata": {},
     "execution_count": 10
    }
   ],
   "metadata": {
    "collapsed": false,
    "jupyter": {
     "outputs_hidden": false
    }
   }
  },
  {
   "cell_type": "markdown",
   "source": [
    "Aside: In this context, we don't get the string generated by `__str__`; we get the one generated by `__repr__` (read about that [here](https://docs.python.org/3/reference/datamodel.html#basic-customization)) \n",
    "\n",
    "Because `FrenchDeck` provides `__len__` and `__getitem__`, it is considered a sequence, which means that the `in` operator works:"
   ],
   "metadata": {}
  },
  {
   "cell_type": "code",
   "execution_count": 11,
   "source": [
    "Card('Q', 'hearts') in deck"
   ],
   "outputs": [
    {
     "output_type": "execute_result",
     "data": {
      "text/plain": [
       "True"
      ]
     },
     "metadata": {},
     "execution_count": 11
    }
   ],
   "metadata": {
    "collapsed": false,
    "jupyter": {
     "outputs_hidden": false
    }
   }
  },
  {
   "cell_type": "markdown",
   "source": [
    "**Exercise** Make up a card that doesn't exist and confirm that `in` returns `False`."
   ],
   "metadata": {}
  },
  {
   "cell_type": "code",
   "execution_count": 12,
   "source": [
    "Card('Z', 'hearts') in deck"
   ],
   "outputs": [
    {
     "output_type": "execute_result",
     "data": {
      "text/plain": [
       "False"
      ]
     },
     "metadata": {},
     "execution_count": 12
    }
   ],
   "metadata": {
    "collapsed": false,
    "jupyter": {
     "outputs_hidden": false
    }
   }
  },
  {
   "cell_type": "markdown",
   "source": [
    "And the for loop works, too:"
   ],
   "metadata": {}
  },
  {
   "cell_type": "code",
   "execution_count": 13,
   "source": [
    "for card in deck:\r\n",
    "    print(card)"
   ],
   "outputs": [
    {
     "output_type": "stream",
     "name": "stdout",
     "text": [
      "2 of spades\n",
      "3 of spades\n",
      "4 of spades\n",
      "5 of spades\n",
      "6 of spades\n",
      "7 of spades\n",
      "8 of spades\n",
      "9 of spades\n",
      "10 of spades\n",
      "J of spades\n",
      "Q of spades\n",
      "K of spades\n",
      "A of spades\n",
      "2 of diamonds\n",
      "3 of diamonds\n",
      "4 of diamonds\n",
      "5 of diamonds\n",
      "6 of diamonds\n",
      "7 of diamonds\n",
      "8 of diamonds\n",
      "9 of diamonds\n",
      "10 of diamonds\n",
      "J of diamonds\n",
      "Q of diamonds\n",
      "K of diamonds\n",
      "A of diamonds\n",
      "2 of clubs\n",
      "3 of clubs\n",
      "4 of clubs\n",
      "5 of clubs\n",
      "6 of clubs\n",
      "7 of clubs\n",
      "8 of clubs\n",
      "9 of clubs\n",
      "10 of clubs\n",
      "J of clubs\n",
      "Q of clubs\n",
      "K of clubs\n",
      "A of clubs\n",
      "2 of hearts\n",
      "3 of hearts\n",
      "4 of hearts\n",
      "5 of hearts\n",
      "6 of hearts\n",
      "7 of hearts\n",
      "8 of hearts\n",
      "9 of hearts\n",
      "10 of hearts\n",
      "J of hearts\n",
      "Q of hearts\n",
      "K of hearts\n",
      "A of hearts\n"
     ]
    }
   ],
   "metadata": {
    "collapsed": false,
    "jupyter": {
     "outputs_hidden": false
    }
   }
  },
  {
   "cell_type": "markdown",
   "source": [
    "Other methods that work with sequences, like `random.choice`, will work with decks:"
   ],
   "metadata": {}
  },
  {
   "cell_type": "code",
   "execution_count": 14,
   "source": [
    "from random import choice\r\n",
    "choice(deck)"
   ],
   "outputs": [
    {
     "output_type": "execute_result",
     "data": {
      "text/plain": [
       "Card(rank='6', suit='clubs')"
      ]
     },
     "metadata": {},
     "execution_count": 14
    }
   ],
   "metadata": {
    "collapsed": false,
    "jupyter": {
     "outputs_hidden": false
    }
   }
  },
  {
   "cell_type": "markdown",
   "source": [
    "Sadly, `shuffle` doesn't work because we haven't provided `__setitem__`, so a deck is an immutable sequence:"
   ],
   "metadata": {}
  },
  {
   "cell_type": "code",
   "execution_count": 15,
   "source": [
    "from random import shuffle\r\n",
    "\r\n",
    "# This should raise a TypeError\r\n",
    "try:\r\n",
    "    shuffle(deck)\r\n",
    "except TypeError as error:\r\n",
    "    print(error)"
   ],
   "outputs": [
    {
     "output_type": "stream",
     "name": "stdout",
     "text": [
      "'FrenchDeck' object does not support item assignment\n"
     ]
    }
   ],
   "metadata": {
    "collapsed": false,
    "jupyter": {
     "outputs_hidden": false
    }
   }
  },
  {
   "cell_type": "markdown",
   "source": [
    "We can use `sorted` to iterate through the cards in the order determined by tuple comparison:"
   ],
   "metadata": {}
  },
  {
   "cell_type": "code",
   "execution_count": 16,
   "source": [
    "for card in sorted(deck):\r\n",
    "    print(card)"
   ],
   "outputs": [
    {
     "output_type": "stream",
     "name": "stdout",
     "text": [
      "10 of clubs\n",
      "10 of diamonds\n",
      "10 of hearts\n",
      "10 of spades\n",
      "2 of clubs\n",
      "2 of diamonds\n",
      "2 of hearts\n",
      "2 of spades\n",
      "3 of clubs\n",
      "3 of diamonds\n",
      "3 of hearts\n",
      "3 of spades\n",
      "4 of clubs\n",
      "4 of diamonds\n",
      "4 of hearts\n",
      "4 of spades\n",
      "5 of clubs\n",
      "5 of diamonds\n",
      "5 of hearts\n",
      "5 of spades\n",
      "6 of clubs\n",
      "6 of diamonds\n",
      "6 of hearts\n",
      "6 of spades\n",
      "7 of clubs\n",
      "7 of diamonds\n",
      "7 of hearts\n",
      "7 of spades\n",
      "8 of clubs\n",
      "8 of diamonds\n",
      "8 of hearts\n",
      "8 of spades\n",
      "9 of clubs\n",
      "9 of diamonds\n",
      "9 of hearts\n",
      "9 of spades\n",
      "A of clubs\n",
      "A of diamonds\n",
      "A of hearts\n",
      "A of spades\n",
      "J of clubs\n",
      "J of diamonds\n",
      "J of hearts\n",
      "J of spades\n",
      "K of clubs\n",
      "K of diamonds\n",
      "K of hearts\n",
      "K of spades\n",
      "Q of clubs\n",
      "Q of diamonds\n",
      "Q of hearts\n",
      "Q of spades\n"
     ]
    }
   ],
   "metadata": {
    "collapsed": false,
    "jupyter": {
     "outputs_hidden": false
    }
   }
  },
  {
   "cell_type": "markdown",
   "source": [
    "If we want an ordering that makes more sense for cards, we can define a function that maps from a card to an integer:"
   ],
   "metadata": {}
  },
  {
   "cell_type": "code",
   "execution_count": 31,
   "source": [
    "suit_values = dict(spades=3, hearts=2, diamonds=1, clubs=0)\r\n",
    "\r\n",
    "def spades_high_ordering(card):\r\n",
    "    rank_value = FrenchDeck.ranks.index(card.rank)\r\n",
    "    return rank_value * len(suit_values) + suit_values[card.suit]"
   ],
   "outputs": [],
   "metadata": {
    "collapsed": false,
    "jupyter": {
     "outputs_hidden": false
    }
   }
  },
  {
   "cell_type": "code",
   "execution_count": 33,
   "source": [
    "spades_high_ordering(Card('2', 'clubs'))"
   ],
   "outputs": [
    {
     "output_type": "execute_result",
     "data": {
      "text/plain": [
       "0"
      ]
     },
     "metadata": {},
     "execution_count": 33
    }
   ],
   "metadata": {
    "collapsed": false,
    "jupyter": {
     "outputs_hidden": false
    }
   }
  },
  {
   "cell_type": "code",
   "execution_count": 34,
   "source": [
    "spades_high_ordering(Card('A', 'spades'))"
   ],
   "outputs": [
    {
     "output_type": "execute_result",
     "data": {
      "text/plain": [
       "51"
      ]
     },
     "metadata": {},
     "execution_count": 34
    }
   ],
   "metadata": {
    "collapsed": false,
    "jupyter": {
     "outputs_hidden": false
    }
   }
  },
  {
   "cell_type": "markdown",
   "source": [
    "And then pass this funcition as a key to `sorted`:"
   ],
   "metadata": {}
  },
  {
   "cell_type": "code",
   "execution_count": 20,
   "source": [
    "for card in sorted(deck, key=spades_high_ordering):\r\n",
    "    print(card)"
   ],
   "outputs": [
    {
     "output_type": "stream",
     "name": "stdout",
     "text": [
      "2 of clubs\n",
      "2 of diamonds\n",
      "2 of hearts\n",
      "2 of spades\n",
      "3 of clubs\n",
      "3 of diamonds\n",
      "3 of hearts\n",
      "3 of spades\n",
      "4 of clubs\n",
      "4 of diamonds\n",
      "4 of hearts\n",
      "4 of spades\n",
      "5 of clubs\n",
      "5 of diamonds\n",
      "5 of hearts\n",
      "5 of spades\n",
      "6 of clubs\n",
      "6 of diamonds\n",
      "6 of hearts\n",
      "6 of spades\n",
      "7 of clubs\n",
      "7 of diamonds\n",
      "7 of hearts\n",
      "7 of spades\n",
      "8 of clubs\n",
      "8 of diamonds\n",
      "8 of hearts\n",
      "8 of spades\n",
      "9 of clubs\n",
      "9 of diamonds\n",
      "9 of hearts\n",
      "9 of spades\n",
      "10 of clubs\n",
      "10 of diamonds\n",
      "10 of hearts\n",
      "10 of spades\n",
      "J of clubs\n",
      "J of diamonds\n",
      "J of hearts\n",
      "J of spades\n",
      "Q of clubs\n",
      "Q of diamonds\n",
      "Q of hearts\n",
      "Q of spades\n",
      "K of clubs\n",
      "K of diamonds\n",
      "K of hearts\n",
      "K of spades\n",
      "A of clubs\n",
      "A of diamonds\n",
      "A of hearts\n",
      "A of spades\n"
     ]
    }
   ],
   "metadata": {
    "collapsed": false,
    "jupyter": {
     "outputs_hidden": false
    }
   }
  },
  {
   "cell_type": "markdown",
   "source": [
    "**Exercise**  Define a new ordering that sorts the cards by suit first and then by rank, so all clubs come first, followed by all diamonds, etc."
   ],
   "metadata": {}
  },
  {
   "cell_type": "code",
   "execution_count": 21,
   "source": [
    "# Solution goes here"
   ],
   "outputs": [],
   "metadata": {
    "collapsed": false,
    "jupyter": {
     "outputs_hidden": false
    }
   }
  },
  {
   "cell_type": "markdown",
   "source": [
    "**Exercise**  Write a method called `setcard` that takes a deck, an index, and a card, and assigns the card to the deck at the given position.  Then monkey-patch `FrenchDeck` to provide `__setitem__` as a method.  Test it by assigning a new card like this:\n",
    "\n",
    "    deck[0] = Card('A', 'spades')\n",
    "\n",
    "Then shuffle the deck using `random.shuffle`."
   ],
   "metadata": {}
  },
  {
   "cell_type": "code",
   "execution_count": 22,
   "source": [
    "# Solution goes here"
   ],
   "outputs": [],
   "metadata": {
    "collapsed": false,
    "jupyter": {
     "outputs_hidden": false
    }
   }
  },
  {
   "cell_type": "markdown",
   "source": [
    "We should have two Aces of spades now, which we can confirm by checking the number of unique cards:"
   ],
   "metadata": {}
  },
  {
   "cell_type": "code",
   "execution_count": 23,
   "source": [
    "len(set(deck))"
   ],
   "outputs": [
    {
     "output_type": "execute_result",
     "data": {
      "text/plain": [
       "52"
      ]
     },
     "metadata": {},
     "execution_count": 23
    }
   ],
   "metadata": {
    "collapsed": false,
    "jupyter": {
     "outputs_hidden": false
    }
   }
  },
  {
   "cell_type": "code",
   "execution_count": null,
   "source": [],
   "outputs": [],
   "metadata": {
    "collapsed": true,
    "jupyter": {
     "outputs_hidden": true
    }
   }
  }
 ],
 "metadata": {
  "kernelspec": {
   "name": "python3",
   "display_name": "Python 3.9.7 64-bit (conda)"
  },
  "language_info": {
   "codemirror_mode": {
    "name": "ipython",
    "version": 3
   },
   "file_extension": ".py",
   "mimetype": "text/x-python",
   "name": "python",
   "nbconvert_exporter": "python",
   "pygments_lexer": "ipython3",
   "version": "3.9.7"
  },
  "interpreter": {
   "hash": "8ae6e8347844ce31cefbfab1c46c85d6003d3a1108122483edd0f60efc9feef7"
  }
 },
 "nbformat": 4,
 "nbformat_minor": 5
}