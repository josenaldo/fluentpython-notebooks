{
 "cells": [
  {
   "cell_type": "markdown",
   "id": "892345ec",
   "metadata": {},
   "source": [
    "### 2-D Vectors\n",
    "\n",
    "This notebook contains example code from [*Fluent Python*](http://shop.oreilly.com/product/0636920032519.do), by Luciano Ramalho.\n",
    "\n",
    "Code by Luciano Ramalho, modified by Allen Downey.\n",
    "\n",
    "MIT License: https://opensource.org/licenses/MIT"
   ]
  },
  {
   "cell_type": "markdown",
   "id": "efb1dff2",
   "metadata": {},
   "source": [
    "This example demonstrates how a user-defined type can emulate a numeric type by providing special methods.\n",
    "\n",
    "`Vector` represents a 2-D Euclidean vector:"
   ]
  },
  {
   "cell_type": "code",
   "execution_count": null,
   "id": "c1e21968",
   "metadata": {
    "collapsed": true,
    "jupyter": {
     "outputs_hidden": true
    }
   },
   "outputs": [],
   "source": [
    "from math import hypot\n",
    "\n",
    "class Vector:\n",
    "\n",
    "    def __init__(self, x=0, y=0):\n",
    "        self.x = x\n",
    "        self.y = y\n",
    "\n",
    "    def __repr__(self):\n",
    "        return 'Vector(%r, %r)' % (self.x, self.y)\n",
    "\n",
    "    def __abs__(self):\n",
    "        return hypot(self.x, self.y)\n",
    "\n",
    "    def __bool__(self):\n",
    "        return bool(abs(self))\n",
    "\n",
    "    def __add__(self, other):\n",
    "        x = self.x + other.x\n",
    "        y = self.y + other.y\n",
    "        return Vector(x, y)\n",
    "\n",
    "    def __mul__(self, scalar):\n",
    "        return Vector(self.x * scalar, self.y * scalar)"
   ]
  },
  {
   "cell_type": "markdown",
   "id": "110a1076",
   "metadata": {},
   "source": [
    "Because `Vector` provides `__add__`, we can use the `+` operator to add Vectors."
   ]
  },
  {
   "cell_type": "code",
   "execution_count": null,
   "id": "d1a2ee8e",
   "metadata": {
    "collapsed": false,
    "jupyter": {
     "outputs_hidden": false
    }
   },
   "outputs": [],
   "source": [
    "v1 = Vector(2, 4)\n",
    "v2 = Vector(2, 1)\n",
    "v1 + v2"
   ]
  },
  {
   "cell_type": "markdown",
   "id": "695f3dc7",
   "metadata": {},
   "source": [
    "And because it provides `__abs__`, we can use the built-in method `abs`.  For Euclidean vectors, the \"absolute value\" is the magnitude; for 2-D vectors, the magnitude is the hypoteneuse of the two components:"
   ]
  },
  {
   "cell_type": "code",
   "execution_count": null,
   "id": "6dcbd35e",
   "metadata": {
    "collapsed": false,
    "jupyter": {
     "outputs_hidden": false
    }
   },
   "outputs": [],
   "source": [
    "v = Vector(3, 4)\n",
    "abs(v)"
   ]
  },
  {
   "cell_type": "markdown",
   "id": "d6b00c7d",
   "metadata": {},
   "source": [
    "`Vector` provides `__mul__`, so we can use the `*` operator."
   ]
  },
  {
   "cell_type": "code",
   "execution_count": null,
   "id": "11090451",
   "metadata": {
    "collapsed": false,
    "jupyter": {
     "outputs_hidden": false
    }
   },
   "outputs": [],
   "source": [
    "v * 3"
   ]
  },
  {
   "cell_type": "markdown",
   "id": "5d9edfaa",
   "metadata": {},
   "source": [
    "But `__mul__` only supports scalar multiplication.\n",
    "\n",
    "**Exercise** What happens if you try to multiply two vectors?"
   ]
  },
  {
   "cell_type": "code",
   "execution_count": null,
   "id": "d77641d6",
   "metadata": {
    "collapsed": false,
    "jupyter": {
     "outputs_hidden": false
    }
   },
   "outputs": [],
   "source": [
    "# Solution goes here"
   ]
  },
  {
   "cell_type": "markdown",
   "id": "ac5e7b11",
   "metadata": {},
   "source": [
    "`Vector` defines `__repr__`, which returns a string representation of the object:"
   ]
  },
  {
   "cell_type": "code",
   "execution_count": null,
   "id": "6acd81c4",
   "metadata": {
    "collapsed": false,
    "jupyter": {
     "outputs_hidden": false
    }
   },
   "outputs": [],
   "source": [
    "repr(v)"
   ]
  },
  {
   "cell_type": "markdown",
   "id": "b78585db",
   "metadata": {},
   "source": [
    "Because `Vector` does not provide `__str__`, Python uses `__repr__`:"
   ]
  },
  {
   "cell_type": "code",
   "execution_count": null,
   "id": "215a3ddb",
   "metadata": {
    "collapsed": false,
    "jupyter": {
     "outputs_hidden": false
    }
   },
   "outputs": [],
   "source": [
    "str(v)"
   ]
  },
  {
   "cell_type": "markdown",
   "id": "7f7c93a8",
   "metadata": {},
   "source": [
    "So what's the difference?  `str` is meant to return a human-readable representation of the object.  `repr` should return a string that can be evaluated to re-create the object.\n",
    "\n",
    "If the same representation can perform both roles, you can just define `__repr__`."
   ]
  },
  {
   "cell_type": "markdown",
   "id": "632391aa",
   "metadata": {},
   "source": [
    "`Vector` implements `__bool__`, so it can be used in a context where it has to be converted to `boolean`:"
   ]
  },
  {
   "cell_type": "code",
   "execution_count": null,
   "id": "4f6bc13e",
   "metadata": {
    "collapsed": false,
    "jupyter": {
     "outputs_hidden": false
    }
   },
   "outputs": [],
   "source": [
    "if v:\n",
    "    print(v)"
   ]
  },
  {
   "cell_type": "markdown",
   "id": "fb00cdcd",
   "metadata": {},
   "source": [
    "If the magnitude is 0, the Vector is considered `False`:"
   ]
  },
  {
   "cell_type": "code",
   "execution_count": null,
   "id": "ed02a50a",
   "metadata": {
    "collapsed": false,
    "jupyter": {
     "outputs_hidden": false
    }
   },
   "outputs": [],
   "source": [
    "if Vector(0, 0):\n",
    "    print(\"Won't happen.\")"
   ]
  },
  {
   "cell_type": "markdown",
   "id": "8632f81c",
   "metadata": {},
   "source": [
    "**Exercise** Create a class called `SubVector` that extends `Vector` and provides `__sub__`.  Test that you can use the `-` operator with `SubVector`.\n",
    "\n",
    "What happens if you subtract a `Vector` from a `SubVector`?  How about the other way around?"
   ]
  },
  {
   "cell_type": "code",
   "execution_count": null,
   "id": "cf3f3548",
   "metadata": {
    "collapsed": false,
    "jupyter": {
     "outputs_hidden": false
    }
   },
   "outputs": [],
   "source": [
    "# Solution goes here"
   ]
  },
  {
   "cell_type": "code",
   "execution_count": null,
   "id": "8c0153f6",
   "metadata": {
    "collapsed": false,
    "jupyter": {
     "outputs_hidden": false
    }
   },
   "outputs": [],
   "source": [
    "# Solution goes here"
   ]
  },
  {
   "cell_type": "code",
   "execution_count": null,
   "id": "3ff5815c",
   "metadata": {
    "collapsed": false,
    "jupyter": {
     "outputs_hidden": false
    }
   },
   "outputs": [],
   "source": [
    "# Solution goes here"
   ]
  },
  {
   "cell_type": "code",
   "execution_count": null,
   "id": "b563bf3d",
   "metadata": {
    "collapsed": false,
    "jupyter": {
     "outputs_hidden": false
    }
   },
   "outputs": [],
   "source": [
    "# Solution goes here"
   ]
  },
  {
   "cell_type": "code",
   "execution_count": null,
   "id": "5af57eca",
   "metadata": {
    "collapsed": true,
    "jupyter": {
     "outputs_hidden": true
    }
   },
   "outputs": [],
   "source": []
  }
 ],
 "metadata": {
  "kernelspec": {
   "display_name": "Python 3",
   "language": "python",
   "name": "python3"
  },
  "language_info": {
   "codemirror_mode": {
    "name": "ipython",
    "version": 3
   },
   "file_extension": ".py",
   "mimetype": "text/x-python",
   "name": "python",
   "nbconvert_exporter": "python",
   "pygments_lexer": "ipython3",
   "version": "3.8.8"
  }
 },
 "nbformat": 4,
 "nbformat_minor": 5
}
