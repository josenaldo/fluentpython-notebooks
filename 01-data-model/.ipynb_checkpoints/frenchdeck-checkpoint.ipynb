{
 "cells": [
  {
   "cell_type": "markdown",
   "id": "242a5125",
   "metadata": {},
   "source": [
    "### Card and Deck objects\n",
    "\n",
    "This notebook contains example code from [*Fluent Python*](http://shop.oreilly.com/product/0636920032519.do), by Luciano Ramalho.\n",
    "\n",
    "Code by Luciano Ramalho, modified by Allen Downey.\n",
    "\n",
    "MIT License: https://opensource.org/licenses/MIT"
   ]
  },
  {
   "cell_type": "markdown",
   "id": "aca895e5",
   "metadata": {},
   "source": [
    "This example demonstrates the Python data model using a simple implementation of playing cards and decks.\n",
    "\n",
    "`Card` is a namedtuple that represents a playing card."
   ]
  },
  {
   "cell_type": "code",
   "execution_count": null,
   "id": "3a5831e7",
   "metadata": {
    "collapsed": true,
    "jupyter": {
     "outputs_hidden": true
    }
   },
   "outputs": [],
   "source": [
    "import collections\n",
    "\n",
    "Card = collections.namedtuple('Card', ['rank', 'suit'])"
   ]
  },
  {
   "cell_type": "markdown",
   "id": "26b346d2",
   "metadata": {},
   "source": [
    "`FrenchDeck` is a class that represents a deck of cards."
   ]
  },
  {
   "cell_type": "code",
   "execution_count": null,
   "id": "86b7f917",
   "metadata": {
    "collapsed": true,
    "jupyter": {
     "outputs_hidden": true
    }
   },
   "outputs": [],
   "source": [
    "class FrenchDeck:\n",
    "    ranks = [str(n) for n in range(2, 11)] + list('JQKA')\n",
    "    suits = 'spades diamonds clubs hearts'.split()\n",
    "\n",
    "    def __init__(self):\n",
    "        self._cards = [Card(rank, suit) for suit in self.suits\n",
    "                                        for rank in self.ranks]\n",
    "\n",
    "    def __len__(self):\n",
    "        return len(self._cards)\n",
    "\n",
    "    def __getitem__(self, position):\n",
    "        return self._cards[position]"
   ]
  },
  {
   "cell_type": "markdown",
   "id": "558bb793",
   "metadata": {},
   "source": [
    "You can instantiate a `Card` object as if `Card` were a class.\n",
    "\n",
    "BTW: [beer card](https://en.wikipedia.org/wiki/Beer_card)"
   ]
  },
  {
   "cell_type": "code",
   "execution_count": null,
   "id": "dcf54bad",
   "metadata": {
    "collapsed": false,
    "jupyter": {
     "outputs_hidden": false
    }
   },
   "outputs": [],
   "source": [
    "beer_card = Card('7', 'diamonds')\n",
    "beer_card"
   ]
  },
  {
   "cell_type": "markdown",
   "id": "1983e7d6",
   "metadata": {},
   "source": [
    "You can access the fields of a card by name."
   ]
  },
  {
   "cell_type": "code",
   "execution_count": null,
   "id": "b2345901",
   "metadata": {
    "collapsed": false,
    "jupyter": {
     "outputs_hidden": false
    }
   },
   "outputs": [],
   "source": [
    "beer_card.rank, beer_card.suit"
   ]
  },
  {
   "cell_type": "markdown",
   "id": "ac547aab",
   "metadata": {},
   "source": [
    "Or by index."
   ]
  },
  {
   "cell_type": "code",
   "execution_count": null,
   "id": "606b2a7c",
   "metadata": {
    "collapsed": false,
    "jupyter": {
     "outputs_hidden": false
    }
   },
   "outputs": [],
   "source": [
    "beer_card[0], beer_card[1]"
   ]
  },
  {
   "cell_type": "markdown",
   "id": "e52741ee",
   "metadata": {},
   "source": [
    "A drawback of using namedtuples is that you can't define methods for them in the usual way.\n",
    "\n",
    "But you can [monkey-patch](https://en.wikipedia.org/wiki/Monkey_patch) them by defining a function and then making it an attribute of `Card`.  For example, here's a function that generates a string representation of a card:"
   ]
  },
  {
   "cell_type": "code",
   "execution_count": null,
   "id": "a8ee333a",
   "metadata": {
    "collapsed": false,
    "jupyter": {
     "outputs_hidden": false
    }
   },
   "outputs": [],
   "source": [
    "def card_to_str(card):\n",
    "    return '%s of %s' % card\n",
    "\n",
    "card_to_str(beer_card)"
   ]
  },
  {
   "cell_type": "markdown",
   "id": "b4fda3dc",
   "metadata": {},
   "source": [
    "Here's how we can make that function behave like a method.  When we pass a card to `print`, Python invokes the special method `__str__`"
   ]
  },
  {
   "cell_type": "code",
   "execution_count": null,
   "id": "749d9dc1",
   "metadata": {
    "collapsed": false,
    "jupyter": {
     "outputs_hidden": false
    }
   },
   "outputs": [],
   "source": [
    "Card.__str__ = card_to_str\n",
    "print(beer_card)"
   ]
  },
  {
   "cell_type": "markdown",
   "id": "df96bdf5",
   "metadata": {},
   "source": [
    "Now let's instantiate a `FrenchDeck`.\n",
    "\n",
    "When we call `len`, Python invokes the `__len__` method on the deck. "
   ]
  },
  {
   "cell_type": "code",
   "execution_count": null,
   "id": "91f7b465",
   "metadata": {
    "collapsed": false,
    "jupyter": {
     "outputs_hidden": false
    }
   },
   "outputs": [],
   "source": [
    "deck = FrenchDeck()\n",
    "len(deck)"
   ]
  },
  {
   "cell_type": "markdown",
   "id": "2b5e7b3a",
   "metadata": {},
   "source": [
    "When we use the bracket operator, Python invokes the `__getitem__` method:"
   ]
  },
  {
   "cell_type": "code",
   "execution_count": null,
   "id": "ebe95827",
   "metadata": {
    "collapsed": false,
    "jupyter": {
     "outputs_hidden": false
    }
   },
   "outputs": [],
   "source": [
    "deck[3]"
   ]
  },
  {
   "cell_type": "markdown",
   "id": "831403cf",
   "metadata": {},
   "source": [
    "And that means that the slice operator works, too:"
   ]
  },
  {
   "cell_type": "code",
   "execution_count": null,
   "id": "f95ccd28",
   "metadata": {
    "collapsed": false,
    "jupyter": {
     "outputs_hidden": false
    }
   },
   "outputs": [],
   "source": [
    "deck[:3]"
   ]
  },
  {
   "cell_type": "markdown",
   "id": "ebc6c01e",
   "metadata": {},
   "source": [
    "Aside: In this context, we don't get the string generated by `__str__`; we get the one generated by `__repr__` (read about that [here](https://docs.python.org/3/reference/datamodel.html#basic-customization)) \n",
    "\n",
    "Because `FrenchDeck` provides `__len__` and `__getitem__`, it is considered a sequence, which means that the `in` operator works:"
   ]
  },
  {
   "cell_type": "code",
   "execution_count": null,
   "id": "1762cf01",
   "metadata": {
    "collapsed": false,
    "jupyter": {
     "outputs_hidden": false
    }
   },
   "outputs": [],
   "source": [
    "Card('Q', 'hearts') in deck"
   ]
  },
  {
   "cell_type": "markdown",
   "id": "683941ac",
   "metadata": {},
   "source": [
    "**Exercise** Make up a card that doesn't exist and confirm that `in` returns `False`."
   ]
  },
  {
   "cell_type": "code",
   "execution_count": null,
   "id": "0f2d1cbf",
   "metadata": {
    "collapsed": false,
    "jupyter": {
     "outputs_hidden": false
    }
   },
   "outputs": [],
   "source": [
    "# Solution goes here"
   ]
  },
  {
   "cell_type": "markdown",
   "id": "1d15f3c4",
   "metadata": {},
   "source": [
    "And the for loop works, too:"
   ]
  },
  {
   "cell_type": "code",
   "execution_count": null,
   "id": "cea6bacb",
   "metadata": {
    "collapsed": false,
    "jupyter": {
     "outputs_hidden": false
    }
   },
   "outputs": [],
   "source": [
    "for card in deck:\n",
    "    print(card)"
   ]
  },
  {
   "cell_type": "markdown",
   "id": "d62ecfd2",
   "metadata": {},
   "source": [
    "Other methods that work with sequences, like `random.choice`, will work with decks:"
   ]
  },
  {
   "cell_type": "code",
   "execution_count": null,
   "id": "1099735c",
   "metadata": {
    "collapsed": false,
    "jupyter": {
     "outputs_hidden": false
    }
   },
   "outputs": [],
   "source": [
    "from random import choice\n",
    "choice(deck)"
   ]
  },
  {
   "cell_type": "markdown",
   "id": "ba7e76f2",
   "metadata": {},
   "source": [
    "Sadly, `shuffle` doesn't work because we haven't provided `__setitem__`, so a deck is an immutable sequence:"
   ]
  },
  {
   "cell_type": "code",
   "execution_count": null,
   "id": "1a327398",
   "metadata": {
    "collapsed": false,
    "jupyter": {
     "outputs_hidden": false
    }
   },
   "outputs": [],
   "source": [
    "from random import shuffle\n",
    "\n",
    "# This should raise a TypeError\n",
    "shuffle(deck)"
   ]
  },
  {
   "cell_type": "markdown",
   "id": "ace54239",
   "metadata": {},
   "source": [
    "We can use `sorted` to iterate through the cards in the order determined by tuple comparison:"
   ]
  },
  {
   "cell_type": "code",
   "execution_count": null,
   "id": "5141a739",
   "metadata": {
    "collapsed": false,
    "jupyter": {
     "outputs_hidden": false
    }
   },
   "outputs": [],
   "source": [
    "for card in sorted(deck):\n",
    "    print(card)"
   ]
  },
  {
   "cell_type": "markdown",
   "id": "1582a616",
   "metadata": {},
   "source": [
    "If we want an ordering that makes more sense for cards, we can define a function that maps from a card to an integer:"
   ]
  },
  {
   "cell_type": "code",
   "execution_count": null,
   "id": "6961740a",
   "metadata": {
    "collapsed": false,
    "jupyter": {
     "outputs_hidden": false
    }
   },
   "outputs": [],
   "source": [
    "suit_values = dict(spades=3, hearts=2, diamonds=1, clubs=0)\n",
    "\n",
    "def spades_high_ordering(card):\n",
    "    rank_value = FrenchDeck.ranks.index(card.rank)\n",
    "    return rank_value * len(suit_values) + suit_values[card.suit]"
   ]
  },
  {
   "cell_type": "code",
   "execution_count": null,
   "id": "3d48273f",
   "metadata": {
    "collapsed": false,
    "jupyter": {
     "outputs_hidden": false
    }
   },
   "outputs": [],
   "source": [
    "spades_high_ordering(Card('2', 'clubs'))"
   ]
  },
  {
   "cell_type": "code",
   "execution_count": null,
   "id": "4feed338",
   "metadata": {
    "collapsed": false,
    "jupyter": {
     "outputs_hidden": false
    }
   },
   "outputs": [],
   "source": [
    "spades_high_ordering(Card('A', 'spades'))"
   ]
  },
  {
   "cell_type": "markdown",
   "id": "a05fe512",
   "metadata": {},
   "source": [
    "And then pass this funcition as a key to `sorted`:"
   ]
  },
  {
   "cell_type": "code",
   "execution_count": null,
   "id": "2e0625d7",
   "metadata": {
    "collapsed": false,
    "jupyter": {
     "outputs_hidden": false
    }
   },
   "outputs": [],
   "source": [
    "for card in sorted(deck, key=spades_high_ordering):\n",
    "    print(card)"
   ]
  },
  {
   "cell_type": "markdown",
   "id": "2e660179",
   "metadata": {},
   "source": [
    "**Exercise**  Define a new ordering that sorts the cards by suit first and then by rank, so all clubs come first, followed by all diamonds, etc."
   ]
  },
  {
   "cell_type": "code",
   "execution_count": null,
   "id": "6aca5234",
   "metadata": {
    "collapsed": false,
    "jupyter": {
     "outputs_hidden": false
    }
   },
   "outputs": [],
   "source": [
    "# Solution goes here"
   ]
  },
  {
   "cell_type": "markdown",
   "id": "0808d8a7",
   "metadata": {},
   "source": [
    "**Exercise**  Write a method called `setcard` that takes a deck, an index, and a card, and assigns the card to the deck at the given position.  Then monkey-patch `FrenchDeck` to provide `__setitem__` as a method.  Test it by assigning a new card like this:\n",
    "\n",
    "    deck[0] = Card('A', 'spades')\n",
    "\n",
    "Then shuffle the deck using `random.shuffle`."
   ]
  },
  {
   "cell_type": "code",
   "execution_count": null,
   "id": "51b9df76",
   "metadata": {
    "collapsed": false,
    "jupyter": {
     "outputs_hidden": false
    }
   },
   "outputs": [],
   "source": [
    "# Solution goes here"
   ]
  },
  {
   "cell_type": "markdown",
   "id": "e57890ca",
   "metadata": {},
   "source": [
    "We should have two Aces of spades now, which we can confirm by checking the number of unique cards:"
   ]
  },
  {
   "cell_type": "code",
   "execution_count": null,
   "id": "cc99366a",
   "metadata": {
    "collapsed": false,
    "jupyter": {
     "outputs_hidden": false
    }
   },
   "outputs": [],
   "source": [
    "len(set(deck))"
   ]
  },
  {
   "cell_type": "code",
   "execution_count": null,
   "id": "f7b40989",
   "metadata": {
    "collapsed": true,
    "jupyter": {
     "outputs_hidden": true
    }
   },
   "outputs": [],
   "source": []
  }
 ],
 "metadata": {
  "kernelspec": {
   "display_name": "Python 3",
   "language": "python",
   "name": "python3"
  },
  "language_info": {
   "codemirror_mode": {
    "name": "ipython",
    "version": 3
   },
   "file_extension": ".py",
   "mimetype": "text/x-python",
   "name": "python",
   "nbconvert_exporter": "python",
   "pygments_lexer": "ipython3",
   "version": "3.8.8"
  }
 },
 "nbformat": 4,
 "nbformat_minor": 5
}
